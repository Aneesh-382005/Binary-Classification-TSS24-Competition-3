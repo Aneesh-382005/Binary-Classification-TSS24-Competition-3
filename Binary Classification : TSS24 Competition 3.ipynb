{
 "cells": [
  {
   "cell_type": "markdown",
   "id": "95d7db87",
   "metadata": {
    "papermill": {
     "duration": 0.006601,
     "end_time": "2024-06-26T09:15:36.643084",
     "exception": false,
     "start_time": "2024-06-26T09:15:36.636483",
     "status": "completed"
    },
    "tags": []
   },
   "source": [
    "# Thapar Summer School 2024 Competition 3: Binary Classification\n",
    "\n",
    "## Objective:\n",
    "### Prediction of the probability whether a person is a smoker based on given features in the dataset. \n",
    "### Evaluations are on the basis of the ROC curve (AUC-ROC)."
   ]
  },
  {
   "cell_type": "markdown",
   "id": "1ed4dee4",
   "metadata": {
    "papermill": {
     "duration": 0.005274,
     "end_time": "2024-06-26T09:15:36.654380",
     "exception": false,
     "start_time": "2024-06-26T09:15:36.649106",
     "status": "completed"
    },
    "tags": []
   },
   "source": [
    "## Importing Libraries"
   ]
  },
  {
   "cell_type": "code",
   "execution_count": 1,
   "id": "4ab6f207",
   "metadata": {
    "_cell_guid": "b1076dfc-b9ad-4769-8c92-a6c4dae69d19",
    "_uuid": "8f2839f25d086af736a60e9eeb907d3b93b6e0e5",
    "execution": {
     "iopub.execute_input": "2024-06-26T09:15:36.667547Z",
     "iopub.status.busy": "2024-06-26T09:15:36.667115Z",
     "iopub.status.idle": "2024-06-26T09:15:41.083370Z",
     "shell.execute_reply": "2024-06-26T09:15:41.082005Z"
    },
    "papermill": {
     "duration": 4.426701,
     "end_time": "2024-06-26T09:15:41.086659",
     "exception": false,
     "start_time": "2024-06-26T09:15:36.659958",
     "status": "completed"
    },
    "tags": []
   },
   "outputs": [
    {
     "name": "stdout",
     "output_type": "stream",
     "text": [
      "/kaggle/input/tss24-competition-3/sample_submission.csv\n",
      "/kaggle/input/tss24-competition-3/train.csv\n",
      "/kaggle/input/tss24-competition-3/test.csv\n"
     ]
    }
   ],
   "source": [
    "import numpy as np \n",
    "import pandas as pd \n",
    "import matplotlib.pyplot as plt \n",
    "import seaborn as sns\n",
    "\n",
    "from sklearn.preprocessing import StandardScaler\n",
    "from sklearn.model_selection import train_test_split\n",
    "from sklearn.metrics import roc_auc_score\n",
    "from sklearn.linear_model import LogisticRegression\n",
    "\n",
    "from lightgbm import LGBMClassifier\n",
    "\n",
    "import os\n",
    "for dirname, _, filenames in os.walk('/kaggle/input'):\n",
    "    for filename in filenames:\n",
    "        print(os.path.join(dirname, filename))"
   ]
  },
  {
   "cell_type": "markdown",
   "id": "cf6b3370",
   "metadata": {
    "papermill": {
     "duration": 0.005913,
     "end_time": "2024-06-26T09:15:41.098751",
     "exception": false,
     "start_time": "2024-06-26T09:15:41.092838",
     "status": "completed"
    },
    "tags": []
   },
   "source": [
    "## Exploration and Visualization "
   ]
  },
  {
   "cell_type": "code",
   "execution_count": 2,
   "id": "fbd2acce",
   "metadata": {
    "execution": {
     "iopub.execute_input": "2024-06-26T09:15:41.113617Z",
     "iopub.status.busy": "2024-06-26T09:15:41.112576Z",
     "iopub.status.idle": "2024-06-26T09:15:42.256808Z",
     "shell.execute_reply": "2024-06-26T09:15:42.255402Z"
    },
    "papermill": {
     "duration": 1.155741,
     "end_time": "2024-06-26T09:15:42.260453",
     "exception": false,
     "start_time": "2024-06-26T09:15:41.104712",
     "status": "completed"
    },
    "tags": []
   },
   "outputs": [],
   "source": [
    "train = pd.read_csv(\"/kaggle/input/tss24-competition-3/train.csv\")\n",
    "test = pd.read_csv(\"/kaggle/input/tss24-competition-3/test.csv\")"
   ]
  },
  {
   "cell_type": "code",
   "execution_count": 3,
   "id": "7b5ffd85",
   "metadata": {
    "execution": {
     "iopub.execute_input": "2024-06-26T09:15:42.274862Z",
     "iopub.status.busy": "2024-06-26T09:15:42.274394Z",
     "iopub.status.idle": "2024-06-26T09:15:42.320082Z",
     "shell.execute_reply": "2024-06-26T09:15:42.318862Z"
    },
    "papermill": {
     "duration": 0.056724,
     "end_time": "2024-06-26T09:15:42.323437",
     "exception": false,
     "start_time": "2024-06-26T09:15:42.266713",
     "status": "completed"
    },
    "tags": []
   },
   "outputs": [
    {
     "data": {
      "text/html": [
       "<div>\n",
       "<style scoped>\n",
       "    .dataframe tbody tr th:only-of-type {\n",
       "        vertical-align: middle;\n",
       "    }\n",
       "\n",
       "    .dataframe tbody tr th {\n",
       "        vertical-align: top;\n",
       "    }\n",
       "\n",
       "    .dataframe thead th {\n",
       "        text-align: right;\n",
       "    }\n",
       "</style>\n",
       "<table border=\"1\" class=\"dataframe\">\n",
       "  <thead>\n",
       "    <tr style=\"text-align: right;\">\n",
       "      <th></th>\n",
       "      <th>id</th>\n",
       "      <th>age</th>\n",
       "      <th>height(cm)</th>\n",
       "      <th>weight(kg)</th>\n",
       "      <th>waist(cm)</th>\n",
       "      <th>eyesight(left)</th>\n",
       "      <th>eyesight(right)</th>\n",
       "      <th>hearing(left)</th>\n",
       "      <th>hearing(right)</th>\n",
       "      <th>systolic</th>\n",
       "      <th>...</th>\n",
       "      <th>HDL</th>\n",
       "      <th>LDL</th>\n",
       "      <th>hemoglobin</th>\n",
       "      <th>Urine protein</th>\n",
       "      <th>serum creatinine</th>\n",
       "      <th>AST</th>\n",
       "      <th>ALT</th>\n",
       "      <th>Gtp</th>\n",
       "      <th>dental caries</th>\n",
       "      <th>smoking</th>\n",
       "    </tr>\n",
       "  </thead>\n",
       "  <tbody>\n",
       "    <tr>\n",
       "      <th>0</th>\n",
       "      <td>0</td>\n",
       "      <td>55</td>\n",
       "      <td>165</td>\n",
       "      <td>60</td>\n",
       "      <td>81.0</td>\n",
       "      <td>0.5</td>\n",
       "      <td>0.6</td>\n",
       "      <td>1</td>\n",
       "      <td>1</td>\n",
       "      <td>135</td>\n",
       "      <td>...</td>\n",
       "      <td>40</td>\n",
       "      <td>75</td>\n",
       "      <td>16.5</td>\n",
       "      <td>1</td>\n",
       "      <td>1.0</td>\n",
       "      <td>22</td>\n",
       "      <td>25</td>\n",
       "      <td>27</td>\n",
       "      <td>0</td>\n",
       "      <td>1</td>\n",
       "    </tr>\n",
       "    <tr>\n",
       "      <th>1</th>\n",
       "      <td>1</td>\n",
       "      <td>70</td>\n",
       "      <td>165</td>\n",
       "      <td>65</td>\n",
       "      <td>89.0</td>\n",
       "      <td>0.6</td>\n",
       "      <td>0.7</td>\n",
       "      <td>2</td>\n",
       "      <td>2</td>\n",
       "      <td>146</td>\n",
       "      <td>...</td>\n",
       "      <td>57</td>\n",
       "      <td>126</td>\n",
       "      <td>16.2</td>\n",
       "      <td>1</td>\n",
       "      <td>1.1</td>\n",
       "      <td>27</td>\n",
       "      <td>23</td>\n",
       "      <td>37</td>\n",
       "      <td>1</td>\n",
       "      <td>0</td>\n",
       "    </tr>\n",
       "    <tr>\n",
       "      <th>2</th>\n",
       "      <td>2</td>\n",
       "      <td>20</td>\n",
       "      <td>170</td>\n",
       "      <td>75</td>\n",
       "      <td>81.0</td>\n",
       "      <td>0.4</td>\n",
       "      <td>0.5</td>\n",
       "      <td>1</td>\n",
       "      <td>1</td>\n",
       "      <td>118</td>\n",
       "      <td>...</td>\n",
       "      <td>45</td>\n",
       "      <td>93</td>\n",
       "      <td>17.4</td>\n",
       "      <td>1</td>\n",
       "      <td>0.8</td>\n",
       "      <td>27</td>\n",
       "      <td>31</td>\n",
       "      <td>53</td>\n",
       "      <td>0</td>\n",
       "      <td>1</td>\n",
       "    </tr>\n",
       "    <tr>\n",
       "      <th>3</th>\n",
       "      <td>3</td>\n",
       "      <td>35</td>\n",
       "      <td>180</td>\n",
       "      <td>95</td>\n",
       "      <td>105.0</td>\n",
       "      <td>1.5</td>\n",
       "      <td>1.2</td>\n",
       "      <td>1</td>\n",
       "      <td>1</td>\n",
       "      <td>131</td>\n",
       "      <td>...</td>\n",
       "      <td>38</td>\n",
       "      <td>102</td>\n",
       "      <td>15.9</td>\n",
       "      <td>1</td>\n",
       "      <td>1.0</td>\n",
       "      <td>20</td>\n",
       "      <td>27</td>\n",
       "      <td>30</td>\n",
       "      <td>1</td>\n",
       "      <td>0</td>\n",
       "    </tr>\n",
       "    <tr>\n",
       "      <th>4</th>\n",
       "      <td>4</td>\n",
       "      <td>30</td>\n",
       "      <td>165</td>\n",
       "      <td>60</td>\n",
       "      <td>80.5</td>\n",
       "      <td>1.5</td>\n",
       "      <td>1.0</td>\n",
       "      <td>1</td>\n",
       "      <td>1</td>\n",
       "      <td>121</td>\n",
       "      <td>...</td>\n",
       "      <td>44</td>\n",
       "      <td>93</td>\n",
       "      <td>15.4</td>\n",
       "      <td>1</td>\n",
       "      <td>0.8</td>\n",
       "      <td>19</td>\n",
       "      <td>13</td>\n",
       "      <td>17</td>\n",
       "      <td>0</td>\n",
       "      <td>1</td>\n",
       "    </tr>\n",
       "  </tbody>\n",
       "</table>\n",
       "<p>5 rows × 24 columns</p>\n",
       "</div>"
      ],
      "text/plain": [
       "   id  age  height(cm)  weight(kg)  waist(cm)  eyesight(left)  \\\n",
       "0   0   55         165          60       81.0             0.5   \n",
       "1   1   70         165          65       89.0             0.6   \n",
       "2   2   20         170          75       81.0             0.4   \n",
       "3   3   35         180          95      105.0             1.5   \n",
       "4   4   30         165          60       80.5             1.5   \n",
       "\n",
       "   eyesight(right)  hearing(left)  hearing(right)  systolic  ...  HDL  LDL  \\\n",
       "0              0.6              1               1       135  ...   40   75   \n",
       "1              0.7              2               2       146  ...   57  126   \n",
       "2              0.5              1               1       118  ...   45   93   \n",
       "3              1.2              1               1       131  ...   38  102   \n",
       "4              1.0              1               1       121  ...   44   93   \n",
       "\n",
       "   hemoglobin  Urine protein  serum creatinine  AST  ALT  Gtp  dental caries  \\\n",
       "0        16.5              1               1.0   22   25   27              0   \n",
       "1        16.2              1               1.1   27   23   37              1   \n",
       "2        17.4              1               0.8   27   31   53              0   \n",
       "3        15.9              1               1.0   20   27   30              1   \n",
       "4        15.4              1               0.8   19   13   17              0   \n",
       "\n",
       "   smoking  \n",
       "0        1  \n",
       "1        0  \n",
       "2        1  \n",
       "3        0  \n",
       "4        1  \n",
       "\n",
       "[5 rows x 24 columns]"
      ]
     },
     "execution_count": 3,
     "metadata": {},
     "output_type": "execute_result"
    }
   ],
   "source": [
    "train.head()"
   ]
  },
  {
   "cell_type": "code",
   "execution_count": 4,
   "id": "89d778c0",
   "metadata": {
    "execution": {
     "iopub.execute_input": "2024-06-26T09:15:42.338893Z",
     "iopub.status.busy": "2024-06-26T09:15:42.337462Z",
     "iopub.status.idle": "2024-06-26T09:15:42.345710Z",
     "shell.execute_reply": "2024-06-26T09:15:42.344213Z"
    },
    "papermill": {
     "duration": 0.018516,
     "end_time": "2024-06-26T09:15:42.348386",
     "exception": false,
     "start_time": "2024-06-26T09:15:42.329870",
     "status": "completed"
    },
    "tags": []
   },
   "outputs": [
    {
     "data": {
      "text/plain": [
       "(159256, 24)"
      ]
     },
     "execution_count": 4,
     "metadata": {},
     "output_type": "execute_result"
    }
   ],
   "source": [
    "train.shape"
   ]
  },
  {
   "cell_type": "code",
   "execution_count": 5,
   "id": "11159aa8",
   "metadata": {
    "execution": {
     "iopub.execute_input": "2024-06-26T09:15:42.363620Z",
     "iopub.status.busy": "2024-06-26T09:15:42.362806Z",
     "iopub.status.idle": "2024-06-26T09:15:42.372720Z",
     "shell.execute_reply": "2024-06-26T09:15:42.371463Z"
    },
    "papermill": {
     "duration": 0.020105,
     "end_time": "2024-06-26T09:15:42.375155",
     "exception": false,
     "start_time": "2024-06-26T09:15:42.355050",
     "status": "completed"
    },
    "tags": []
   },
   "outputs": [
    {
     "data": {
      "text/plain": [
       "id                       int64\n",
       "age                      int64\n",
       "height(cm)               int64\n",
       "weight(kg)               int64\n",
       "waist(cm)              float64\n",
       "eyesight(left)         float64\n",
       "eyesight(right)        float64\n",
       "hearing(left)            int64\n",
       "hearing(right)           int64\n",
       "systolic                 int64\n",
       "relaxation               int64\n",
       "fasting blood sugar      int64\n",
       "Cholesterol              int64\n",
       "triglyceride             int64\n",
       "HDL                      int64\n",
       "LDL                      int64\n",
       "hemoglobin             float64\n",
       "Urine protein            int64\n",
       "serum creatinine       float64\n",
       "AST                      int64\n",
       "ALT                      int64\n",
       "Gtp                      int64\n",
       "dental caries            int64\n",
       "smoking                  int64\n",
       "dtype: object"
      ]
     },
     "execution_count": 5,
     "metadata": {},
     "output_type": "execute_result"
    }
   ],
   "source": [
    "train.dtypes"
   ]
  },
  {
   "cell_type": "code",
   "execution_count": 6,
   "id": "9aa54a6c",
   "metadata": {
    "execution": {
     "iopub.execute_input": "2024-06-26T09:15:42.390239Z",
     "iopub.status.busy": "2024-06-26T09:15:42.389797Z",
     "iopub.status.idle": "2024-06-26T09:15:42.404640Z",
     "shell.execute_reply": "2024-06-26T09:15:42.403309Z"
    },
    "papermill": {
     "duration": 0.025717,
     "end_time": "2024-06-26T09:15:42.407446",
     "exception": false,
     "start_time": "2024-06-26T09:15:42.381729",
     "status": "completed"
    },
    "tags": []
   },
   "outputs": [
    {
     "data": {
      "text/plain": [
       "id                     0\n",
       "age                    0\n",
       "height(cm)             0\n",
       "weight(kg)             0\n",
       "waist(cm)              0\n",
       "eyesight(left)         0\n",
       "eyesight(right)        0\n",
       "hearing(left)          0\n",
       "hearing(right)         0\n",
       "systolic               0\n",
       "relaxation             0\n",
       "fasting blood sugar    0\n",
       "Cholesterol            0\n",
       "triglyceride           0\n",
       "HDL                    0\n",
       "LDL                    0\n",
       "hemoglobin             0\n",
       "Urine protein          0\n",
       "serum creatinine       0\n",
       "AST                    0\n",
       "ALT                    0\n",
       "Gtp                    0\n",
       "dental caries          0\n",
       "smoking                0\n",
       "dtype: int64"
      ]
     },
     "execution_count": 6,
     "metadata": {},
     "output_type": "execute_result"
    }
   ],
   "source": [
    "train.isna().sum()"
   ]
  },
  {
   "cell_type": "code",
   "execution_count": 7,
   "id": "cf8e4e5d",
   "metadata": {
    "execution": {
     "iopub.execute_input": "2024-06-26T09:15:42.423382Z",
     "iopub.status.busy": "2024-06-26T09:15:42.422954Z",
     "iopub.status.idle": "2024-06-26T09:15:42.727684Z",
     "shell.execute_reply": "2024-06-26T09:15:42.726364Z"
    },
    "papermill": {
     "duration": 0.31616,
     "end_time": "2024-06-26T09:15:42.730548",
     "exception": false,
     "start_time": "2024-06-26T09:15:42.414388",
     "status": "completed"
    },
    "tags": []
   },
   "outputs": [
    {
     "data": {
      "image/png": "[encoded data removed]",
      "text/plain": [
       "<Figure size 800x600 with 1 Axes>"
      ]
     },
     "metadata": {},
     "output_type": "display_data"
    }
   ],
   "source": [
    "plt.figure(figsize = (8, 6))\n",
    "sns.countplot(x = 'smoking', data = train)\n",
    "\n",
    "plt.title('Distribution of Smoking')\n",
    "plt.xlabel('Smoking')\n",
    "plt.ylabel('Count')\n",
    "plt.show()"
   ]
  },
  {
   "cell_type": "markdown",
   "id": "72b80c03",
   "metadata": {
    "papermill": {
     "duration": 0.007693,
     "end_time": "2024-06-26T09:15:42.745657",
     "exception": false,
     "start_time": "2024-06-26T09:15:42.737964",
     "status": "completed"
    },
    "tags": []
   },
   "source": [
    "## Preprocessing"
   ]
  },
  {
   "cell_type": "code",
   "execution_count": 8,
   "id": "96e3f056",
   "metadata": {
    "execution": {
     "iopub.execute_input": "2024-06-26T09:15:42.762378Z",
     "iopub.status.busy": "2024-06-26T09:15:42.761950Z",
     "iopub.status.idle": "2024-06-26T09:15:42.775642Z",
     "shell.execute_reply": "2024-06-26T09:15:42.774531Z"
    },
    "papermill": {
     "duration": 0.025329,
     "end_time": "2024-06-26T09:15:42.778528",
     "exception": false,
     "start_time": "2024-06-26T09:15:42.753199",
     "status": "completed"
    },
    "tags": []
   },
   "outputs": [],
   "source": [
    "X = train.drop(['id', 'smoking'], axis = 1)\n",
    "Y = train['smoking']"
   ]
  },
  {
   "cell_type": "code",
   "execution_count": 9,
   "id": "09916d64",
   "metadata": {
    "execution": {
     "iopub.execute_input": "2024-06-26T09:15:42.794681Z",
     "iopub.status.busy": "2024-06-26T09:15:42.794253Z",
     "iopub.status.idle": "2024-06-26T09:15:42.942517Z",
     "shell.execute_reply": "2024-06-26T09:15:42.941017Z"
    },
    "papermill": {
     "duration": 0.159865,
     "end_time": "2024-06-26T09:15:42.945572",
     "exception": false,
     "start_time": "2024-06-26T09:15:42.785707",
     "status": "completed"
    },
    "tags": []
   },
   "outputs": [],
   "source": [
    "numericalColumnsX = X.select_dtypes(include = ['float64', 'int64']).columns\n",
    "numericalColumnY = test.select_dtypes(include = ['float64', 'int64']).columns\n",
    "\n",
    "Scaler = StandardScaler()\n",
    "X[numericalColumnsX] = Scaler.fit_transform(X[numericalColumnsX])\n",
    "X_test = test.drop('id', axis = 1)\n",
    "X_test = Scaler.transform(X_test)"
   ]
  },
  {
   "cell_type": "markdown",
   "id": "49592867",
   "metadata": {
    "papermill": {
     "duration": 0.006907,
     "end_time": "2024-06-26T09:15:42.959683",
     "exception": false,
     "start_time": "2024-06-26T09:15:42.952776",
     "status": "completed"
    },
    "tags": []
   },
   "source": [
    "## Defining and training our model"
   ]
  },
  {
   "cell_type": "code",
   "execution_count": 10,
   "id": "38cfc1c3",
   "metadata": {
    "execution": {
     "iopub.execute_input": "2024-06-26T09:15:42.976036Z",
     "iopub.status.busy": "2024-06-26T09:15:42.975596Z",
     "iopub.status.idle": "2024-06-26T09:15:43.831986Z",
     "shell.execute_reply": "2024-06-26T09:15:43.830295Z"
    },
    "papermill": {
     "duration": 0.869662,
     "end_time": "2024-06-26T09:15:43.836566",
     "exception": false,
     "start_time": "2024-06-26T09:15:42.966904",
     "status": "completed"
    },
    "tags": []
   },
   "outputs": [
    {
     "data": {
      "text/html": [
       "<style>#sk-container-id-1 {color: black;background-color: white;}#sk-container-id-1 pre{padding: 0;}#sk-container-id-1 div.sk-toggleable {background-color: white;}#sk-container-id-1 label.sk-toggleable__label {cursor: pointer;display: block;width: 100%;margin-bottom: 0;padding: 0.3em;box-sizing: border-box;text-align: center;}#sk-container-id-1 label.sk-toggleable__label-arrow:before {content: \"▸\";float: left;margin-right: 0.25em;color: #696969;}#sk-container-id-1 label.sk-toggleable__label-arrow:hover:before {color: black;}#sk-container-id-1 div.sk-estimator:hover label.sk-toggleable__label-arrow:before {color: black;}#sk-container-id-1 div.sk-toggleable__content {max-height: 0;max-width: 0;overflow: hidden;text-align: left;background-color: #f0f8ff;}#sk-container-id-1 div.sk-toggleable__content pre {margin: 0.2em;color: black;border-radius: 0.25em;background-color: #f0f8ff;}#sk-container-id-1 input.sk-toggleable__control:checked~div.sk-toggleable__content {max-height: 200px;max-width: 100%;overflow: auto;}#sk-container-id-1 input.sk-toggleable__control:checked~label.sk-toggleable__label-arrow:before {content: \"▾\";}#sk-container-id-1 div.sk-estimator input.sk-toggleable__control:checked~label.sk-toggleable__label {background-color: #d4ebff;}#sk-container-id-1 div.sk-label input.sk-toggleable__control:checked~label.sk-toggleable__label {background-color: #d4ebff;}#sk-container-id-1 input.sk-hidden--visually {border: 0;clip: rect(1px 1px 1px 1px);clip: rect(1px, 1px, 1px, 1px);height: 1px;margin: -1px;overflow: hidden;padding: 0;position: absolute;width: 1px;}#sk-container-id-1 div.sk-estimator {font-family: monospace;background-color: #f0f8ff;border: 1px dotted black;border-radius: 0.25em;box-sizing: border-box;margin-bottom: 0.5em;}#sk-container-id-1 div.sk-estimator:hover {background-color: #d4ebff;}#sk-container-id-1 div.sk-parallel-item::after {content: \"\";width: 100%;border-bottom: 1px solid gray;flex-grow: 1;}#sk-container-id-1 div.sk-label:hover label.sk-toggleable__label {background-color: #d4ebff;}#sk-container-id-1 div.sk-serial::before {content: \"\";position: absolute;border-left: 1px solid gray;box-sizing: border-box;top: 0;bottom: 0;left: 50%;z-index: 0;}#sk-container-id-1 div.sk-serial {display: flex;flex-direction: column;align-items: center;background-color: white;padding-right: 0.2em;padding-left: 0.2em;position: relative;}#sk-container-id-1 div.sk-item {position: relative;z-index: 1;}#sk-container-id-1 div.sk-parallel {display: flex;align-items: stretch;justify-content: center;background-color: white;position: relative;}#sk-container-id-1 div.sk-item::before, #sk-container-id-1 div.sk-parallel-item::before {content: \"\";position: absolute;border-left: 1px solid gray;box-sizing: border-box;top: 0;bottom: 0;left: 50%;z-index: -1;}#sk-container-id-1 div.sk-parallel-item {display: flex;flex-direction: column;z-index: 1;position: relative;background-color: white;}#sk-container-id-1 div.sk-parallel-item:first-child::after {align-self: flex-end;width: 50%;}#sk-container-id-1 div.sk-parallel-item:last-child::after {align-self: flex-start;width: 50%;}#sk-container-id-1 div.sk-parallel-item:only-child::after {width: 0;}#sk-container-id-1 div.sk-dashed-wrapped {border: 1px dashed gray;margin: 0 0.4em 0.5em 0.4em;box-sizing: border-box;padding-bottom: 0.4em;background-color: white;}#sk-container-id-1 div.sk-label label {font-family: monospace;font-weight: bold;display: inline-block;line-height: 1.2em;}#sk-container-id-1 div.sk-label-container {text-align: center;}#sk-container-id-1 div.sk-container {/* jupyter's `normalize.less` sets `[hidden] { display: none; }` but bootstrap.min.css set `[hidden] { display: none !important; }` so we also need the `!important` here to be able to override the default hidden behavior on the sphinx rendered scikit-learn.org. See: https://github.com/scikit-learn/scikit-learn/issues/21755 */display: inline-block !important;position: relative;}#sk-container-id-1 div.sk-text-repr-fallback {display: none;}</style><div id=\"sk-container-id-1\" class=\"sk-top-container\"><div class=\"sk-text-repr-fallback\"><pre>LogisticRegression(random_state=42)</pre><b>In a Jupyter environment, please rerun this cell to show the HTML representation or trust the notebook. <br />On GitHub, the HTML representation is unable to render, please try loading this page with nbviewer.org.</b></div><div class=\"sk-container\" hidden><div class=\"sk-item\"><div class=\"sk-estimator sk-toggleable\"><input class=\"sk-toggleable__control sk-hidden--visually\" id=\"sk-estimator-id-1\" type=\"checkbox\" checked><label for=\"sk-estimator-id-1\" class=\"sk-toggleable__label sk-toggleable__label-arrow\">LogisticRegression</label><div class=\"sk-toggleable__content\"><pre>LogisticRegression(random_state=42)</pre></div></div></div></div></div>"
      ],
      "text/plain": [
       "LogisticRegression(random_state=42)"
      ]
     },
     "execution_count": 10,
     "metadata": {},
     "output_type": "execute_result"
    }
   ],
   "source": [
    "model = LogisticRegression(random_state = 42)\n",
    "model.fit(X, Y)"
   ]
  },
  {
   "cell_type": "code",
   "execution_count": 11,
   "id": "58467bd1",
   "metadata": {
    "execution": {
     "iopub.execute_input": "2024-06-26T09:15:43.873032Z",
     "iopub.status.busy": "2024-06-26T09:15:43.872301Z",
     "iopub.status.idle": "2024-06-26T09:15:44.340538Z",
     "shell.execute_reply": "2024-06-26T09:15:44.338900Z"
    },
    "papermill": {
     "duration": 0.490272,
     "end_time": "2024-06-26T09:15:44.344045",
     "exception": false,
     "start_time": "2024-06-26T09:15:43.853773",
     "status": "completed"
    },
    "tags": []
   },
   "outputs": [
    {
     "name": "stderr",
     "output_type": "stream",
     "text": [
      "/opt/conda/lib/python3.10/site-packages/sklearn/base.py:439: UserWarning: X does not have valid feature names, but LogisticRegression was fitted with feature names\n",
      "  warnings.warn(\n"
     ]
    },
    {
     "name": "stdout",
     "output_type": "stream",
     "text": [
      "Submission file created successfully.\n"
     ]
    }
   ],
   "source": [
    "Predictions = model.predict_proba(X_test)[:, 1]\n",
    "\n",
    "Submission = pd.DataFrame({\n",
    "    'id' : test['id'], \n",
    "    'smoking' : Predictions\n",
    "})\n",
    "\n",
    "Submission.to_csv('Submission.csv', index = False)\n",
    "print(\"Submission file created successfully.\")"
   ]
  }
 ],
 "metadata": {
  "kaggle": {
   "accelerator": "none",
   "dataSources": [
    {
     "databundleVersionId": 8942240,
     "sourceId": 82103,
     "sourceType": "competition"
    }
   ],
   "dockerImageVersionId": 30732,
   "isGpuEnabled": false,
   "isInternetEnabled": true,
   "language": "python",
   "sourceType": "notebook"
  },
  "kernelspec": {
   "display_name": "Python 3",
   "language": "python",
   "name": "python3"
  },
  "language_info": {
   "codemirror_mode": {
    "name": "ipython",
    "version": 3
   },
   "file_extension": ".py",
   "mimetype": "text/x-python",
   "name": "python",
   "nbconvert_exporter": "python",
   "pygments_lexer": "ipython3",
   "version": "3.10.13"
  },
  "papermill": {
   "default_parameters": {},
   "duration": 11.859667,
   "end_time": "2024-06-26T09:15:45.178209",
   "environment_variables": {},
   "exception": null,
   "input_path": "__notebook__.ipynb",
   "output_path": "__notebook__.ipynb",
   "parameters": {},
   "start_time": "2024-06-26T09:15:33.318542",
   "version": "2.5.0"
  }
 },
 "nbformat": 4,
 "nbformat_minor": 5
}
